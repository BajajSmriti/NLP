{
 "cells": [
  {
   "cell_type": "markdown",
   "metadata": {},
   "source": [
    "### Goal\n",
    "This notebook focusses on POS tagging by encoding Yemba words as embedding vectors and to build a LSTM that predicts the part of speech of that Yemba word.\n",
    "#### Source:https://towardsdatascience.com/lstm-based-african-language-classification-e4f644c0f29e"
   ]
  },
  {
   "cell_type": "markdown",
   "metadata": {},
   "source": [
    "#### Import libraries and dataset"
   ]
  },
  {
   "cell_type": "code",
   "execution_count": 1,
   "metadata": {},
   "outputs": [],
   "source": [
    "import pandas as pd\n",
    "import numpy as np\n",
    "import matplotlib.pyplot as plt"
   ]
  },
  {
   "cell_type": "code",
   "execution_count": 2,
   "metadata": {},
   "outputs": [
    {
     "data": {
      "text/html": [
       "<div>\n",
       "<style scoped>\n",
       "    .dataframe tbody tr th:only-of-type {\n",
       "        vertical-align: middle;\n",
       "    }\n",
       "\n",
       "    .dataframe tbody tr th {\n",
       "        vertical-align: top;\n",
       "    }\n",
       "\n",
       "    .dataframe thead th {\n",
       "        text-align: right;\n",
       "    }\n",
       "</style>\n",
       "<table border=\"1\" class=\"dataframe\">\n",
       "  <thead>\n",
       "    <tr style=\"text-align: right;\">\n",
       "      <th></th>\n",
       "      <th>Unnamed: 0</th>\n",
       "      <th>en</th>\n",
       "      <th>yb</th>\n",
       "      <th>yb_b</th>\n",
       "      <th>word_type</th>\n",
       "      <th>word_type_label</th>\n",
       "    </tr>\n",
       "  </thead>\n",
       "  <tbody>\n",
       "    <tr>\n",
       "      <th>1287</th>\n",
       "      <td>2517</td>\n",
       "      <td>feed</td>\n",
       "      <td>lezek</td>\n",
       "      <td>lizēk - ńzék, zékɛ́ (ńzék, zégé)</td>\n",
       "      <td>1</td>\n",
       "      <td>verb</td>\n",
       "    </tr>\n",
       "    <tr>\n",
       "      <th>2156</th>\n",
       "      <td>4170</td>\n",
       "      <td>music</td>\n",
       "      <td>azɔp</td>\n",
       "      <td>NaN</td>\n",
       "      <td>0</td>\n",
       "      <td>noun</td>\n",
       "    </tr>\n",
       "    <tr>\n",
       "      <th>1445</th>\n",
       "      <td>2801</td>\n",
       "      <td>give in marriage</td>\n",
       "      <td>lezɔ̄’</td>\n",
       "      <td>lizɔ̄’ - ńzɔ́’, zɔ́’ɔ́</td>\n",
       "      <td>1</td>\n",
       "      <td>verb</td>\n",
       "    </tr>\n",
       "    <tr>\n",
       "      <th>1046</th>\n",
       "      <td>2012</td>\n",
       "      <td>disperse</td>\n",
       "      <td>leŋwaŋ</td>\n",
       "      <td>liŋwaŋ - ŋ́ŋwaŋ, waŋā (ŋ́ŋwaŋ, ŋwaŋā)</td>\n",
       "      <td>1</td>\n",
       "      <td>verb</td>\n",
       "    </tr>\n",
       "    <tr>\n",
       "      <th>1424</th>\n",
       "      <td>2763</td>\n",
       "      <td>get</td>\n",
       "      <td>liwe</td>\n",
       "      <td>lewɛ - ŋ́gwɛ, wiɛ̄ (ŋ́gwe, weē)</td>\n",
       "      <td>1</td>\n",
       "      <td>verb</td>\n",
       "    </tr>\n",
       "  </tbody>\n",
       "</table>\n",
       "</div>"
      ],
      "text/plain": [
       "      Unnamed: 0                en      yb  \\\n",
       "1287        2517              feed   lezek   \n",
       "2156        4170             music    azɔp   \n",
       "1445        2801  give in marriage  lezɔ̄’   \n",
       "1046        2012          disperse  leŋwaŋ   \n",
       "1424        2763               get    liwe   \n",
       "\n",
       "                                          yb_b  word_type word_type_label  \n",
       "1287         lizēk - ńzék, zékɛ́ (ńzék, zégé)          1            verb  \n",
       "2156                                       NaN          0            noun  \n",
       "1445                    lizɔ̄’ - ńzɔ́’, zɔ́’ɔ́          1            verb  \n",
       "1046   liŋwaŋ - ŋ́ŋwaŋ, waŋā (ŋ́ŋwaŋ, ŋwaŋā)          1            verb  \n",
       "1424          lewɛ - ŋ́gwɛ, wiɛ̄ (ŋ́gwe, weē)          1            verb  "
      ]
     },
     "execution_count": 2,
     "metadata": {},
     "output_type": "execute_result"
    }
   ],
   "source": [
    "dataset = pd.read_csv('english_yemba_dictionary.csv')\n",
    "dataset.sample(5)"
   ]
  },
  {
   "cell_type": "markdown",
   "metadata": {},
   "source": [
    "#### Statistics"
   ]
  },
  {
   "cell_type": "code",
   "execution_count": 3,
   "metadata": {},
   "outputs": [
    {
     "data": {
      "text/plain": [
       "<matplotlib.axes._subplots.AxesSubplot at 0x1a36bb0ae48>"
      ]
     },
     "execution_count": 3,
     "metadata": {},
     "output_type": "execute_result"
    },
    {
     "data": {
      "image/png": "[encoded data removed]",
      "text/plain": [
       "<Figure size 432x288 with 1 Axes>"
      ]
     },
     "metadata": {
      "needs_background": "light"
     },
     "output_type": "display_data"
    }
   ],
   "source": [
    "import seaborn as sns\n",
    "sns.countplot(dataset['word_type_label'])"
   ]
  },
  {
   "cell_type": "code",
   "execution_count": 4,
   "metadata": {},
   "outputs": [
    {
     "name": "stdout",
     "output_type": "stream",
     "text": [
      "Number of words:  3587\n",
      "Number of labels:  10\n",
      "Max word length: 26 characters and 38 bytes\n"
     ]
    },
    {
     "name": "stderr",
     "output_type": "stream",
     "text": [
      "C:\\Users\\Simmi\\anaconda3\\lib\\site-packages\\ipykernel_launcher.py:1: UserWarning: Pandas doesn't allow columns to be created via a new attribute name - see https://pandas.pydata.org/pandas-docs/stable/indexing.html#attribute-access\n",
      "  \"\"\"Entry point for launching an IPython kernel.\n"
     ]
    }
   ],
   "source": [
    "dataset.yb_utf8 = dataset.yb.str.encode('utf-8')\n",
    "\n",
    "max_word_len = dataset.yb.str.len().max()\n",
    "max_word_len_utf8 = dataset.yb_utf8.str.len().max()\n",
    "nb_labels = len(dataset.word_type.unique())\n",
    "nb_words = dataset.shape[0]\n",
    "print(\"Number of words: \", nb_words)\n",
    "print(\"Number of labels: \", nb_labels)\n",
    "print(\"Max word length: {} characters and {} bytes\".format(max_word_len, max_word_len_utf8))"
   ]
  },
  {
   "cell_type": "markdown",
   "metadata": {},
   "source": [
    "#### Preprocessing"
   ]
  },
  {
   "cell_type": "code",
   "execution_count": 5,
   "metadata": {},
   "outputs": [
    {
     "name": "stdout",
     "output_type": "stream",
     "text": [
      "{' ': 1, '(': 2, ')': 3, '-': 4, '.': 5, '/': 6, 'a': 7, 'b': 8, 'c': 9, 'd': 10, 'e': 11, 'f': 12, 'g': 13, 'h': 14, 'i': 15, 'j': 16, 'k': 17, 'l': 18, 'm': 19, 'n': 20, 'o': 21, 'p': 22, 'r': 23, 's': 24, 't': 25, 'u': 26, 'v': 27, 'w': 28, 'y': 29, 'z': 30, '\\xa0': 31, 'á': 32, 'é': 33, 'í': 34, 'ó': 35, 'ù': 36, 'ú': 37, 'ń': 38, 'ŋ': 39, 'ǝ': 40, 'ɔ': 41, 'ɛ': 42, 'ʉ': 43, '́': 44, '̄': 45, '́': 46, '’': 47}\n",
      "{1: ' ', 2: '(', 3: ')', 4: '-', 5: '.', 6: '/', 7: 'a', 8: 'b', 9: 'c', 10: 'd', 11: 'e', 12: 'f', 13: 'g', 14: 'h', 15: 'i', 16: 'j', 17: 'k', 18: 'l', 19: 'm', 20: 'n', 21: 'o', 22: 'p', 23: 'r', 24: 's', 25: 't', 26: 'u', 27: 'v', 28: 'w', 29: 'y', 30: 'z', 31: '\\xa0', 32: 'á', 33: 'é', 34: 'í', 35: 'ó', 36: 'ù', 37: 'ú', 38: 'ń', 39: 'ŋ', 40: 'ǝ', 41: 'ɔ', 42: 'ɛ', 43: 'ʉ', 44: '́', 45: '̄', 46: '́', 47: '’'}\n",
      "Vocabulary size:  48\n"
     ]
    }
   ],
   "source": [
    "# Create letter to token dictionary\n",
    "chars = sorted(list(set(' '.join(dataset.yb))))\n",
    "letter2idx = dict((c, i+1) for i, c in enumerate(chars))\n",
    "print(letter2idx)\n",
    "# Create token to letter dictionary\n",
    "idx2letter = dict((i, c) for c, i in letter2idx.items())\n",
    "print(idx2letter)\n",
    "vocabulary_size = len(letter2idx)+1\n",
    "print(\"Vocabulary size: \", vocabulary_size)"
   ]
  },
  {
   "cell_type": "markdown",
   "metadata": {},
   "source": [
    "#### Tokenizing"
   ]
  },
  {
   "cell_type": "code",
   "execution_count": 6,
   "metadata": {},
   "outputs": [],
   "source": [
    "X = []\n",
    "Y = []\n",
    "max_len = 0\n",
    "for i, r in dataset.iterrows():\n",
    "    word_vector = [letter2idx[c] for c in set(r.yb)]\n",
    "    label = r.word_type\n",
    "    if len(word_vector)>max_len:\n",
    "        max_len = len(word_vector)\n",
    "    X.append(word_vector)\n",
    "    Y.append(label)"
   ]
  },
  {
   "cell_type": "code",
   "execution_count": 7,
   "metadata": {},
   "outputs": [
    {
     "data": {
      "text/plain": [
       "(3587, 3587, 15)"
      ]
     },
     "execution_count": 7,
     "metadata": {},
     "output_type": "execute_result"
    }
   ],
   "source": [
    "len(X), len(Y), max_len"
   ]
  },
  {
   "cell_type": "markdown",
   "metadata": {},
   "source": [
    "#### Padding"
   ]
  },
  {
   "cell_type": "code",
   "execution_count": 8,
   "metadata": {},
   "outputs": [
    {
     "data": {
      "text/plain": [
       "((3587, 15), (3587, 12))"
      ]
     },
     "execution_count": 8,
     "metadata": {},
     "output_type": "execute_result"
    }
   ],
   "source": [
    "import tensorflow\n",
    "from tensorflow.keras.preprocessing import sequence\n",
    "from tensorflow.keras.utils import to_categorical\n",
    "\n",
    "X = sequence.pad_sequences(X, maxlen=max_len)\n",
    "Y = to_categorical(Y)\n",
    "X.shape, Y.shape"
   ]
  },
  {
   "cell_type": "code",
   "execution_count": 9,
   "metadata": {},
   "outputs": [
    {
     "data": {
      "text/plain": [
       "array([[1., 0., 0., ..., 0., 0., 0.],\n",
       "       [1., 0., 0., ..., 0., 0., 0.],\n",
       "       [1., 0., 0., ..., 0., 0., 0.],\n",
       "       ...,\n",
       "       [1., 0., 0., ..., 0., 0., 0.],\n",
       "       [0., 1., 0., ..., 0., 0., 0.],\n",
       "       [1., 0., 0., ..., 0., 0., 0.]], dtype=float32)"
      ]
     },
     "execution_count": 9,
     "metadata": {},
     "output_type": "execute_result"
    }
   ],
   "source": [
    "Y"
   ]
  },
  {
   "cell_type": "markdown",
   "metadata": {},
   "source": [
    "#### Splitting into training and test set"
   ]
  },
  {
   "cell_type": "code",
   "execution_count": 10,
   "metadata": {},
   "outputs": [
    {
     "name": "stdout",
     "output_type": "stream",
     "text": [
      "Training with 2869 words, testing with 718 words\n"
     ]
    }
   ],
   "source": [
    "from sklearn.model_selection import train_test_split\n",
    "\n",
    "X_train, X_test, Y_train, Y_test = train_test_split(X, Y, test_size=.2, random_state=123)\n",
    "print(\"Training with {} words, testing with {} words\".format(X_train.shape[0], X_test.shape[0]))"
   ]
  },
  {
   "cell_type": "markdown",
   "metadata": {},
   "source": [
    "#### Building the model"
   ]
  },
  {
   "cell_type": "code",
   "execution_count": 11,
   "metadata": {},
   "outputs": [
    {
     "name": "stderr",
     "output_type": "stream",
     "text": [
      "Using TensorFlow backend.\n"
     ]
    },
    {
     "name": "stdout",
     "output_type": "stream",
     "text": [
      "Model: \"sequential_1\"\n",
      "_________________________________________________________________\n",
      "Layer (type)                 Output Shape              Param #   \n",
      "=================================================================\n",
      "embedding_1 (Embedding)      (None, 15, 8)             384       \n",
      "_________________________________________________________________\n",
      "lstm_1 (LSTM)                (None, 100)               43600     \n",
      "_________________________________________________________________\n",
      "dense_1 (Dense)              (None, 12)                1212      \n",
      "=================================================================\n",
      "Total params: 45,196\n",
      "Trainable params: 45,196\n",
      "Non-trainable params: 0\n",
      "_________________________________________________________________\n"
     ]
    }
   ],
   "source": [
    "from keras.models import Sequential\n",
    "from keras.layers import Dense, LSTM, SimpleRNN, Flatten\n",
    "from keras.layers.embeddings import Embedding\n",
    "\n",
    "# Building a 1-layer LSTM with 100 cells with embeddings\n",
    "embedding_dim = 8\n",
    "model_lstm = Sequential()\n",
    "model_lstm.add(Embedding(vocabulary_size, embedding_dim, input_length=max_len))\n",
    "model_lstm.add(LSTM(100))\n",
    "model_lstm.add(Dense(Y.shape[1], activation='sigmoid'))\n",
    "model_lstm.compile(loss='binary_crossentropy', optimizer='adam', metrics=['accuracy'])\n",
    "model_lstm.summary()"
   ]
  },
  {
   "cell_type": "markdown",
   "metadata": {},
   "source": [
    "#### Training the model"
   ]
  },
  {
   "cell_type": "code",
   "execution_count": 12,
   "metadata": {},
   "outputs": [
    {
     "name": "stderr",
     "output_type": "stream",
     "text": [
      "C:\\Users\\Simmi\\anaconda3\\lib\\site-packages\\tensorflow\\python\\framework\\indexed_slices.py:434: UserWarning: Converting sparse IndexedSlices to a dense Tensor of unknown shape. This may consume a large amount of memory.\n",
      "  \"Converting sparse IndexedSlices to a dense Tensor of unknown shape. \"\n"
     ]
    },
    {
     "name": "stdout",
     "output_type": "stream",
     "text": [
      "Train on 2869 samples, validate on 718 samples\n",
      "Epoch 1/50\n",
      "2869/2869 [==============================] - 1s 519us/step - loss: 0.2474 - accuracy: 0.9153 - val_loss: 0.1474 - val_accuracy: 0.9204\n",
      "Epoch 2/50\n",
      " 576/2869 [=====>........................] - ETA: 0s - loss: 0.1471 - accuracy: 0.9253"
     ]
    },
    {
     "name": "stderr",
     "output_type": "stream",
     "text": [
      "C:\\Users\\Simmi\\anaconda3\\lib\\site-packages\\keras\\callbacks\\callbacks.py:846: RuntimeWarning: Early stopping conditioned on metric `val_acc` which is not available. Available metrics are: val_loss,val_accuracy,loss,accuracy\n",
      "  (self.monitor, ','.join(list(logs.keys()))), RuntimeWarning\n"
     ]
    },
    {
     "name": "stdout",
     "output_type": "stream",
     "text": [
      "2869/2869 [==============================] - 1s 306us/step - loss: 0.1448 - accuracy: 0.9208 - val_loss: 0.1470 - val_accuracy: 0.9204\n",
      "Epoch 3/50\n",
      "2869/2869 [==============================] - 1s 295us/step - loss: 0.1436 - accuracy: 0.9232 - val_loss: 0.1449 - val_accuracy: 0.9295\n",
      "Epoch 4/50\n",
      "2869/2869 [==============================] - 1s 275us/step - loss: 0.1395 - accuracy: 0.9290 - val_loss: 0.1404 - val_accuracy: 0.9263\n",
      "Epoch 5/50\n",
      "2869/2869 [==============================] - 1s 277us/step - loss: 0.1305 - accuracy: 0.9396 - val_loss: 0.1304 - val_accuracy: 0.9415\n",
      "Epoch 6/50\n",
      "2869/2869 [==============================] - 1s 283us/step - loss: 0.1196 - accuracy: 0.9491 - val_loss: 0.1126 - val_accuracy: 0.9586\n",
      "Epoch 7/50\n",
      "2869/2869 [==============================] - 1s 278us/step - loss: 0.0998 - accuracy: 0.9644 - val_loss: 0.1012 - val_accuracy: 0.9602\n",
      "Epoch 8/50\n",
      "2869/2869 [==============================] - 1s 279us/step - loss: 0.0889 - accuracy: 0.9697 - val_loss: 0.0945 - val_accuracy: 0.9683\n",
      "Epoch 9/50\n",
      "2869/2869 [==============================] - 1s 282us/step - loss: 0.0840 - accuracy: 0.9728 - val_loss: 0.0888 - val_accuracy: 0.9687\n",
      "Epoch 10/50\n",
      "2869/2869 [==============================] - 1s 291us/step - loss: 0.0821 - accuracy: 0.9730 - val_loss: 0.0889 - val_accuracy: 0.9703\n",
      "Epoch 11/50\n",
      "2869/2869 [==============================] - 1s 279us/step - loss: 0.0805 - accuracy: 0.9742 - val_loss: 0.0952 - val_accuracy: 0.9651\n",
      "Epoch 12/50\n",
      "2869/2869 [==============================] - 1s 371us/step - loss: 0.0796 - accuracy: 0.9740 - val_loss: 0.0868 - val_accuracy: 0.9688\n",
      "Epoch 13/50\n",
      "2869/2869 [==============================] - 1s 311us/step - loss: 0.0786 - accuracy: 0.9746 - val_loss: 0.0942 - val_accuracy: 0.9646\n",
      "Epoch 14/50\n",
      "2869/2869 [==============================] - 1s 281us/step - loss: 0.0785 - accuracy: 0.9744 - val_loss: 0.0851 - val_accuracy: 0.9697\n",
      "Epoch 15/50\n",
      "2869/2869 [==============================] - 1s 277us/step - loss: 0.0776 - accuracy: 0.9746 - val_loss: 0.0875 - val_accuracy: 0.9689\n",
      "Epoch 16/50\n",
      "2869/2869 [==============================] - 1s 278us/step - loss: 0.0781 - accuracy: 0.9750 - val_loss: 0.0856 - val_accuracy: 0.9711\n",
      "Epoch 17/50\n",
      "2869/2869 [==============================] - 1s 282us/step - loss: 0.0771 - accuracy: 0.9752 - val_loss: 0.0846 - val_accuracy: 0.9712\n",
      "Epoch 18/50\n",
      "2869/2869 [==============================] - 1s 281us/step - loss: 0.0775 - accuracy: 0.9746 - val_loss: 0.0837 - val_accuracy: 0.9706\n",
      "Epoch 19/50\n",
      "2869/2869 [==============================] - 1s 278us/step - loss: 0.0764 - accuracy: 0.9751 - val_loss: 0.0837 - val_accuracy: 0.9706\n",
      "Epoch 20/50\n",
      "2869/2869 [==============================] - 1s 278us/step - loss: 0.0761 - accuracy: 0.9752 - val_loss: 0.0833 - val_accuracy: 0.9712\n",
      "Epoch 21/50\n",
      "2869/2869 [==============================] - 1s 316us/step - loss: 0.0768 - accuracy: 0.9753 - val_loss: 0.0859 - val_accuracy: 0.9690\n",
      "Epoch 22/50\n",
      "2869/2869 [==============================] - 1s 308us/step - loss: 0.0759 - accuracy: 0.9750 - val_loss: 0.0824 - val_accuracy: 0.9718\n",
      "Epoch 23/50\n",
      "2869/2869 [==============================] - 1s 284us/step - loss: 0.0747 - accuracy: 0.9756 - val_loss: 0.0827 - val_accuracy: 0.9712\n",
      "Epoch 24/50\n",
      "2869/2869 [==============================] - 1s 279us/step - loss: 0.0743 - accuracy: 0.9759 - val_loss: 0.0834 - val_accuracy: 0.9720\n",
      "Epoch 25/50\n",
      "2869/2869 [==============================] - 1s 281us/step - loss: 0.0733 - accuracy: 0.9756 - val_loss: 0.0815 - val_accuracy: 0.9721\n",
      "Epoch 26/50\n",
      "2869/2869 [==============================] - 1s 279us/step - loss: 0.0748 - accuracy: 0.9756 - val_loss: 0.0818 - val_accuracy: 0.9720\n",
      "Epoch 27/50\n",
      "2869/2869 [==============================] - 1s 279us/step - loss: 0.0725 - accuracy: 0.9760 - val_loss: 0.0831 - val_accuracy: 0.9708\n",
      "Epoch 28/50\n",
      "2869/2869 [==============================] - 1s 282us/step - loss: 0.0725 - accuracy: 0.9761 - val_loss: 0.0812 - val_accuracy: 0.9734\n",
      "Epoch 29/50\n",
      "2869/2869 [==============================] - 1s 283us/step - loss: 0.0713 - accuracy: 0.9767 - val_loss: 0.0808 - val_accuracy: 0.9726\n",
      "Epoch 30/50\n",
      "2869/2869 [==============================] - 1s 278us/step - loss: 0.0709 - accuracy: 0.9763 - val_loss: 0.0841 - val_accuracy: 0.9689\n",
      "Epoch 31/50\n",
      "2869/2869 [==============================] - 1s 283us/step - loss: 0.0708 - accuracy: 0.9763 - val_loss: 0.0799 - val_accuracy: 0.9724\n",
      "Epoch 32/50\n",
      "2869/2869 [==============================] - 1s 284us/step - loss: 0.0704 - accuracy: 0.9765 - val_loss: 0.0815 - val_accuracy: 0.9725\n",
      "Epoch 33/50\n",
      "2869/2869 [==============================] - 1s 285us/step - loss: 0.0690 - accuracy: 0.9770 - val_loss: 0.0799 - val_accuracy: 0.9725\n",
      "Epoch 34/50\n",
      "2869/2869 [==============================] - 1s 281us/step - loss: 0.0700 - accuracy: 0.9760 - val_loss: 0.0806 - val_accuracy: 0.9732\n",
      "Epoch 35/50\n",
      "2869/2869 [==============================] - 1s 297us/step - loss: 0.0689 - accuracy: 0.9766 - val_loss: 0.0791 - val_accuracy: 0.9734\n",
      "Epoch 36/50\n",
      "2869/2869 [==============================] - 1s 291us/step - loss: 0.0679 - accuracy: 0.9771 - val_loss: 0.0784 - val_accuracy: 0.9739\n",
      "Epoch 37/50\n",
      "2869/2869 [==============================] - 1s 322us/step - loss: 0.0679 - accuracy: 0.9764 - val_loss: 0.0776 - val_accuracy: 0.9738\n",
      "Epoch 38/50\n",
      "2869/2869 [==============================] - ETA: 0s - loss: 0.0671 - accuracy: 0.97 - 1s 298us/step - loss: 0.0673 - accuracy: 0.9771 - val_loss: 0.0777 - val_accuracy: 0.9740\n",
      "Epoch 39/50\n",
      "2869/2869 [==============================] - 1s 297us/step - loss: 0.0668 - accuracy: 0.9766 - val_loss: 0.0776 - val_accuracy: 0.9732\n",
      "Epoch 40/50\n",
      "2869/2869 [==============================] - 1s 306us/step - loss: 0.0660 - accuracy: 0.9771 - val_loss: 0.0781 - val_accuracy: 0.9731\n",
      "Epoch 41/50\n",
      "2869/2869 [==============================] - 1s 295us/step - loss: 0.0667 - accuracy: 0.9769 - val_loss: 0.0790 - val_accuracy: 0.9718\n",
      "Epoch 42/50\n",
      "2869/2869 [==============================] - 1s 289us/step - loss: 0.0661 - accuracy: 0.9769 - val_loss: 0.0771 - val_accuracy: 0.9738\n",
      "Epoch 43/50\n",
      "2869/2869 [==============================] - 1s 271us/step - loss: 0.0659 - accuracy: 0.9771 - val_loss: 0.0764 - val_accuracy: 0.9737\n",
      "Epoch 44/50\n",
      "2869/2869 [==============================] - 1s 280us/step - loss: 0.0661 - accuracy: 0.9771 - val_loss: 0.0800 - val_accuracy: 0.9714\n",
      "Epoch 45/50\n",
      "2869/2869 [==============================] - 1s 292us/step - loss: 0.0652 - accuracy: 0.9779 - val_loss: 0.0758 - val_accuracy: 0.9741\n",
      "Epoch 46/50\n",
      "2869/2869 [==============================] - 1s 281us/step - loss: 0.0642 - accuracy: 0.9776 - val_loss: 0.0765 - val_accuracy: 0.9733\n",
      "Epoch 47/50\n",
      "2869/2869 [==============================] - 1s 282us/step - loss: 0.0656 - accuracy: 0.9773 - val_loss: 0.0790 - val_accuracy: 0.9719\n",
      "Epoch 48/50\n",
      "2869/2869 [==============================] - 1s 324us/step - loss: 0.0644 - accuracy: 0.9778 - val_loss: 0.0759 - val_accuracy: 0.9742\n",
      "Epoch 49/50\n",
      "2869/2869 [==============================] - 1s 361us/step - loss: 0.0636 - accuracy: 0.9776 - val_loss: 0.0761 - val_accuracy: 0.9738\n",
      "Epoch 50/50\n",
      "2869/2869 [==============================] - 1s 314us/step - loss: 0.0645 - accuracy: 0.9780 - val_loss: 0.0777 - val_accuracy: 0.9737\n",
      "Accuracy: 97.37%\n"
     ]
    }
   ],
   "source": [
    "# Training the network\n",
    "from keras.callbacks import EarlyStopping\n",
    "\n",
    "early_stopping = EarlyStopping(monitor='val_acc', min_delta=0, patience=5, verbose=1, mode='auto')\n",
    "history_lstm = model_lstm.fit(X_train, Y_train, epochs=50, batch_size=32, \n",
    "                              validation_data=(X_test, Y_test), callbacks=[early_stopping])\n",
    "scores_lstm = model_lstm.evaluate(X_test, Y_test, verbose=0)\n",
    "print(\"Accuracy: %.2f%%\" % (scores_lstm[1]*100))"
   ]
  },
  {
   "cell_type": "markdown",
   "metadata": {},
   "source": [
    "#### Visualization of results"
   ]
  },
  {
   "cell_type": "code",
   "execution_count": 13,
   "metadata": {},
   "outputs": [
    {
     "data": {
      "image/png": "[encoded data removed]",
      "text/plain": [
       "<Figure size 432x288 with 1 Axes>"
      ]
     },
     "metadata": {
      "needs_background": "light"
     },
     "output_type": "display_data"
    }
   ],
   "source": [
    "# Displaying training performance\n",
    "acc = history_lstm.history['accuracy']\n",
    "val_acc = history_lstm.history['val_accuracy']\n",
    "\n",
    "epochs = range(1, len(acc) + 1)\n",
    "\n",
    "plt.plot(epochs, acc, 'bo', label='Training accuracy')\n",
    "plt.plot(epochs, val_acc, 'r', label='Validation accuracy')\n",
    "plt.title('Training and validation accuracy')\n",
    "plt.xlabel('Epochs')\n",
    "plt.ylabel('Accuracy')\n",
    "plt.legend()\n",
    "\n",
    "plt.show()"
   ]
  },
  {
   "cell_type": "markdown",
   "metadata": {},
   "source": [
    "#### Testing LSTM for random words"
   ]
  },
  {
   "cell_type": "code",
   "execution_count": 14,
   "metadata": {},
   "outputs": [],
   "source": [
    "# Prediction on random words\n",
    "nb=100\n",
    "words = []\n",
    "en = []\n",
    "word_vectors = []\n",
    "true_labels =[]\n",
    "predicted_labels=[]\n",
    "\n",
    "for word_type_label in ['noun', 'verb']:\n",
    "    words_df = dataset[dataset.word_type_label==word_type_label]\n",
    "    if words_df.shape[0] > nb:\n",
    "        words_df = words_df.sample(n=nb)\n",
    "        \n",
    "    for i, r in words_df.iterrows():\n",
    "        words.append(r.yb)\n",
    "        en.append(r.en)\n",
    "        word_vector = [letter2idx[c] for c in set(r.yb)]\n",
    "        word_vectors.append(word_vector)\n",
    "        true_labels.append(word_type_label)\n",
    "        word_vector = sequence.pad_sequences([word_vector], maxlen=max_len)\n",
    "        predicted_label = np.argmax(model_lstm.predict(word_vector), axis=1)[0]\n",
    "        predicted_labels.append('noun' if predicted_label==0 else 'verb')\n",
    "\n",
    "df_results = pd.DataFrame({'en': en,\n",
    "                           'yemba': words,\n",
    "                           'true label': true_labels, \n",
    "                           'predicted label': predicted_labels})                        "
   ]
  },
  {
   "cell_type": "markdown",
   "metadata": {},
   "source": [
    "#### Evaluation of results"
   ]
  },
  {
   "cell_type": "code",
   "execution_count": 18,
   "metadata": {},
   "outputs": [
    {
     "name": "stdout",
     "output_type": "stream",
     "text": [
      "                   en               yemba true label predicted label\n",
      "0             buttock              lemwɛt       noun            verb\n",
      "2           happiness               lepɔŋ       noun            verb\n",
      "5            holy day            ale’ńzhɛ       noun            verb\n",
      "6               glory                lipe       noun            verb\n",
      "20            despair              atabli       noun            verb\n",
      "27               trap               lekhu       noun            verb\n",
      "32             middle  tsetsɛlɛ /tsetsɛtɛ       noun            verb\n",
      "37        sort of mat         akwelékwele       noun            verb\n",
      "40   burial (funeral)             ligwhʉ̄       noun            verb\n",
      "42             tunnel              lisōŋ       noun            verb\n",
      "44               base              letseŋ       noun            verb\n",
      "62               twin              lefāk       noun            verb\n",
      "63               bank              ligēŋ       noun            verb\n",
      "66        compartment               ligok       noun            verb\n",
      "67             mother                 míá       noun            verb\n",
      "72                eye              lezēk       noun            verb\n",
      "80             corner              lezhō       noun            verb\n",
      "88            walking               leziŋ       noun            verb\n",
      "91         eucalyptus             aklatus       noun            verb\n",
      "111              bake               lelā       verb            noun\n",
      "183            detach            likē’ɛ́       verb            noun\n"
     ]
    },
    {
     "data": {
      "text/plain": [
       "0.895"
      ]
     },
     "execution_count": 18,
     "metadata": {},
     "output_type": "execute_result"
    },
    {
     "data": {
      "image/png": "[encoded data removed]",
      "text/plain": [
       "<Figure size 432x288 with 2 Axes>"
      ]
     },
     "metadata": {
      "needs_background": "light"
     },
     "output_type": "display_data"
    }
   ],
   "source": [
    "# confusion matrix\n",
    "from sklearn.metrics import confusion_matrix,accuracy_score\n",
    "cm = confusion_matrix(true_labels, predicted_labels)\n",
    "ax= plt.subplot()\n",
    "sns.heatmap(cm, annot=True, ax = ax);\n",
    "ax.set_xlabel('Predicted labels');ax.set_ylabel('True labels'); \n",
    "ax.set_title('Confusion Matrix'); \n",
    "ax.xaxis.set_ticklabels(['noun', 'verb']); \n",
    "ax.yaxis.set_ticklabels(['noun', 'verb']);\n",
    "\n",
    "# False positives and false negatives\n",
    "print(df_results[df_results['true label']!=df_results['predicted label']])\n",
    "\n",
    "accuracy_score(true_labels,predicted_labels)"
   ]
  },
  {
   "cell_type": "code",
   "execution_count": null,
   "metadata": {},
   "outputs": [],
   "source": []
  }
 ],
 "metadata": {
  "kernelspec": {
   "display_name": "Python 3",
   "language": "python",
   "name": "python3"
  },
  "language_info": {
   "codemirror_mode": {
    "name": "ipython",
    "version": 3
   },
   "file_extension": ".py",
   "mimetype": "text/x-python",
   "name": "python",
   "nbconvert_exporter": "python",
   "pygments_lexer": "ipython3",
   "version": "3.7.6"
  }
 },
 "nbformat": 4,
 "nbformat_minor": 4
}
